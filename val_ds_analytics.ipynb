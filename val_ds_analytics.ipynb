{
 "cells": [
  {
   "metadata": {
    "ExecuteTime": {
     "end_time": "2025-08-05T15:13:29.980492Z",
     "start_time": "2025-08-05T15:13:29.960655Z"
    }
   },
   "cell_type": "code",
   "source": [
    "from datasets import *\n",
    "from analytics import *"
   ],
   "id": "f1183fbc61ef709a",
   "outputs": [],
   "execution_count": 1
  },
  {
   "cell_type": "code",
   "id": "initial_id",
   "metadata": {
    "collapsed": true,
    "ExecuteTime": {
     "end_time": "2025-08-05T15:25:23.164452Z",
     "start_time": "2025-08-05T15:25:22.686132Z"
    }
   },
   "source": [
    "video_clear = multi_coin_ds([\n",
    "    ('./datasets/90/annotations.xml', 'PNG'),\n",
    "    ('./datasets/60/annotations.xml', 'PNG'),\n",
    "    ('./datasets/30/annotations.xml', 'PNG'),\n",
    "    ('./datasets/090/annotations.xml', 'PNG'),\n",
    "    ('./datasets/190/annotations.xml', 'PNG'),\n",
    "    ('./datasets/clear1/annotations.xml', None),\n",
    "    ('./datasets/clear2/annotations.xml', None),\n",
    "], visibility=['clear'], format='xywh', d_img=False, d_bb=False, tsz=(1024, 1024))\n"
   ],
   "outputs": [],
   "execution_count": 7
  },
  {
   "metadata": {
    "ExecuteTime": {
     "end_time": "2025-08-05T15:27:00.434136Z",
     "start_time": "2025-08-05T15:26:45.898568Z"
    }
   },
   "cell_type": "code",
   "source": [
    "from collections import Counter\n",
    "\n",
    "def metriks(ds):\n",
    "    \"\"\"\n",
    "    ds must be xywh\n",
    "    :param ds:\n",
    "    :return:\n",
    "    \"\"\"\n",
    "    from datasets import get_real_samples\n",
    "    import pandas as pd\n",
    "\n",
    "    data = []\n",
    "\n",
    "    for image, boxes, classes in get_real_samples(ds):\n",
    "\n",
    "        for box, clazz in zip(boxes, classes):\n",
    "            xtl, ytl, w, h = box\n",
    "            w = w.numpy()\n",
    "            h = h.numpy()\n",
    "\n",
    "            data.append({\n",
    "                'bbox_width': w,\n",
    "                'bbox_height': h,\n",
    "                'aspect_ratio': w / h\n",
    "            })\n",
    "\n",
    "    df = pd.DataFrame(data)\n",
    "    print(df.describe())\n",
    "\n",
    "\n",
    "m = metriks(video_clear)"
   ],
   "id": "c2aa3b35ba37e27a",
   "outputs": [
    {
     "name": "stdout",
     "output_type": "stream",
     "text": [
      "       bbox_width  bbox_height  aspect_ratio\n",
      "count  142.000000   142.000000    142.000000\n",
      "mean    10.796033    13.958603      0.829224\n",
      "std      2.931850     7.183318      0.139050\n",
      "min      6.092804     8.275665      0.458630\n",
      "25%      9.322693    10.979553      0.740994\n",
      "50%      9.463989    10.998535      0.848113\n",
      "75%     10.601334    12.190807      0.948036\n",
      "max     23.061340    48.943420      1.050218\n"
     ]
    },
    {
     "name": "stderr",
     "output_type": "stream",
     "text": [
      "2025-08-05 16:27:00.426664: I tensorflow/core/framework/local_rendezvous.cc:407] Local rendezvous is aborting with status: OUT_OF_RANGE: End of sequence\n"
     ]
    }
   ],
   "execution_count": 9
  }
 ],
 "metadata": {
  "kernelspec": {
   "display_name": "Python 3",
   "language": "python",
   "name": "python3"
  },
  "language_info": {
   "codemirror_mode": {
    "name": "ipython",
    "version": 2
   },
   "file_extension": ".py",
   "mimetype": "text/x-python",
   "name": "python",
   "nbconvert_exporter": "python",
   "pygments_lexer": "ipython2",
   "version": "2.7.6"
  }
 },
 "nbformat": 4,
 "nbformat_minor": 5
}
