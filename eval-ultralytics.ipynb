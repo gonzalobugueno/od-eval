{
 "cells": [
  {
   "metadata": {
    "ExecuteTime": {
     "end_time": "2025-08-06T19:12:09.592034Z",
     "start_time": "2025-08-06T19:11:54.701856Z"
    }
   },
   "cell_type": "code",
   "source": [
    "from datasets import convert_cvat_to_yolo\n",
    "\n",
    "BATCH_SIZE = 16\n",
    "EPOCHS = 150\n",
    "PATIENCE = 10\n",
    "\n",
    "param_grid = {\n",
    "    'img_size': [1024, 512],\n",
    "    'pretrained_model': ['yolov8n.pt', 'yolov8s.pt', 'yolo11n.pt', 'yolo11s.pt'],\n",
    "    'dataset': [\n",
    "        convert_cvat_to_yolo([\n",
    "            ('./datasets/synthetic_gray/annotations.xml', 'train', None, None),\n",
    "            (\"./datasets/clear1/annotations.xml\", 'val', None, None),\n",
    "            (\"./datasets/clear2/annotations.xml\", 'val', None, None),\n",
    "            ('./datasets/clear3/annotations.xml', 'val', None, None),\n",
    "        ], './datasets/.yolo.0'),\n",
    "        convert_cvat_to_yolo([\n",
    "            ('./datasets/30/annotations.xml', 'train', 'PNG', ['clear']),\n",
    "            ('./datasets/60/annotations.xml', 'train', 'PNG', ['clear']),\n",
    "            ('./datasets/90/annotations.xml', 'train', 'PNG', ['clear']),\n",
    "            ('./datasets/090/annotations.xml', 'train', 'PNG', ['clear']),\n",
    "            ('./datasets/190/annotations.xml', 'train', 'PNG', ['clear']),\n",
    "            (\"./datasets/clear1/annotations.xml\", 'val', None, None),\n",
    "            (\"./datasets/clear2/annotations.xml\", 'val', None, None),\n",
    "            ('./datasets/clear3/annotations.xml', 'val', None, None),\n",
    "        ], './datasets/.yolo.1'),\n",
    "        convert_cvat_to_yolo([\n",
    "            ('./datasets/30/annotations.xml', 'train', 'PNG', ['elongated', 'distinguishable', 'inferred']),\n",
    "            ('./datasets/60/annotations.xml', 'train', 'PNG', ['elongated', 'distinguishable', 'inferred']),\n",
    "            ('./datasets/90/annotations.xml', 'train', 'PNG', ['elongated', 'distinguishable', 'inferred']),\n",
    "            ('./datasets/090/annotations.xml', 'train', 'PNG', ['elongated', 'distinguishable', 'inferred']),\n",
    "            ('./datasets/190/annotations.xml', 'train', 'PNG', ['elongated', 'distinguishable', 'inferred']),\n",
    "            ('./datasets/30/annotations.xml', 'val', 'PNG', ['clear']),\n",
    "            ('./datasets/60/annotations.xml', 'val', 'PNG', ['clear']),\n",
    "            ('./datasets/90/annotations.xml', 'val', 'PNG', ['clear']),\n",
    "            ('./datasets/090/annotations.xml', 'val', 'PNG', ['clear']),\n",
    "            ('./datasets/190/annotations.xml', 'val', 'PNG', ['clear']),\n",
    "        ], './datasets/.yolo.2'),\n",
    "        convert_cvat_to_yolo([\n",
    "            ('./datasets/30/annotations.xml', 'train', 'PNG', None),\n",
    "            ('./datasets/60/annotations.xml', 'train', 'PNG', None),\n",
    "            ('./datasets/90/annotations.xml', 'train', 'PNG', None),\n",
    "            ('./datasets/090/annotations.xml', 'train', 'PNG', None),\n",
    "            ('./datasets/190/annotations.xml', 'train', 'PNG', None),\n",
    "            ('./datasets/simple/annotations.xml', 'train', None, None),\n",
    "            ('./datasets/clear3/annotations.xml', 'train', None, None),\n",
    "            ('./datasets/clear1/annotations.xml', 'val', None, None),\n",
    "            ('./datasets/clear2/annotations.xml', 'val', None, None),\n",
    "        ], './datasets/.yolo.3')\n",
    "    ]\n",
    "}"
   ],
   "id": "905f0d5bd1adb621",
   "outputs": [
    {
     "name": "stdout",
     "output_type": "stream",
     "text": [
      "Wrote 960 samples for split 'train'.\n",
      "Wrote 66 samples for split 'val'.\n",
      "Wrote 0 samples for split 'test'.\n"
     ]
    }
   ],
   "execution_count": 1
  },
  {
   "metadata": {},
   "cell_type": "code",
   "source": [
    "import itertools\n",
    "import ultralytics\n",
    "\n",
    "\n",
    "def grid_search(params):\n",
    "    keys = list(params.keys())\n",
    "    for values in itertools.product(*(params[key] for key in keys)):\n",
    "        yield dict(zip(keys, values))\n",
    "\n",
    "\n",
    "metrics = []\n",
    "\n",
    "for params in grid_search(param_grid):\n",
    "    print('Training...')\n",
    "    print(params)\n",
    "    model = ultralytics.YOLO(params['pretrained_model'])\n",
    "    result = model.train(data=params['dataset'], imgsz=params['img_size'], epochs=EPOCHS, batch=BATCH_SIZE, patience=PATIENCE,\n",
    "                         plots=True)\n",
    "\n",
    "    metrics.append((params, model.val()))"
   ],
   "id": "3810be918019a703",
   "outputs": [],
   "execution_count": null
  },
  {
   "metadata": {},
   "cell_type": "code",
   "source": [
    "import pandas as pd\n",
    "\n",
    "df = pd.DataFrame([\n",
    "    {\n",
    "        \"ImageSize\": p['img_size'],\n",
    "        \"PretrainedModel\": p['pretrained_model'],\n",
    "        \"Dataset\": p['dataset'],\n",
    "        \"Precision\": v.box.precision,\n",
    "        \"Recall\": v.box.recall,\n",
    "        \"F1\": v.box.f1,\n",
    "        \"mAP@0.5\": v.box.map50,\n",
    "        \"mAP@0.5:0.95\": v.box.map,\n",
    "        'Speed': sum(v.box.speed.values())\n",
    "    } for p, v in metrics\n",
    "])\n",
    "\n",
    "print(df)\n"
   ],
   "id": "8cd1593d308d47d",
   "outputs": [],
   "execution_count": null
  }
 ],
 "metadata": {},
 "nbformat": 4,
 "nbformat_minor": 5
}
